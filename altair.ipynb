{
 "cells": [
  {
   "cell_type": "code",
   "execution_count": null,
   "metadata": {},
   "outputs": [],
   "source": []
  },
  {
   "cell_type": "code",
   "execution_count": 1,
   "metadata": {},
   "outputs": [
    {
     "data": {
      "text/plain": [
       "RendererRegistry.enable('notebook')"
      ]
     },
     "execution_count": 1,
     "metadata": {},
     "output_type": "execute_result"
    }
   ],
   "source": [
    "import altair as alt\n",
    "alt.renderers.enable('notebook')"
   ]
  },
  {
   "cell_type": "code",
   "execution_count": 2,
   "metadata": {},
   "outputs": [],
   "source": [
    "data = alt.Data(values = [{'category':'indel', 'item':'freebayes', 'value':'343'},\n",
    "                         {'category':'SNV', 'item':'freebayes', 'value':'119'},\n",
    "                         {'category':'substitution', 'item':'freebayes', 'value':'70'},\n",
    "                         {'category':'indel', 'item':'samtools', 'value':'129'},\n",
    "                         {'category':'SNV', 'item':'samtools', 'value':'115'},\n",
    "                         {'category':'insertion', 'item':'samtools', 'value':'13'},\n",
    "                         {'category':'deletion', 'item':'samtools', 'value':'12'},\n",
    "                         {'category':'indel', 'item':'shared', 'value':'20'},\n",
    "                         {'category':'SNV', 'item':'shared', 'value':'2159'}\n",
    "                         ])"
   ]
  },
  {
   "cell_type": "code",
   "execution_count": 3,
   "metadata": {},
   "outputs": [],
   "source": [
    "oi_scale = alt.Scale(domain=[\"indel\", \"SNV\", \"substitution\", \"insertion\", \"deletion\"],\n",
    "                    range=['#F0E442', '#0072B2',  '#E69F00', '#009E73','#CC79A7'])"
   ]
  },
  {
   "cell_type": "code",
   "execution_count": 4,
   "metadata": {},
   "outputs": [
    {
     "data": {
      "text/html": [
       "<div class=\"vega-embed\" id=\"9739afcb-e8c6-4996-a4e2-4d887ab6dac7\"></div>\n",
       "\n",
       "<style>\n",
       ".vega-embed .error p {\n",
       "    color: firebrick;\n",
       "    font-size: 14px;\n",
       "}\n",
       "</style>\n"
      ]
     },
     "metadata": {
      "jupyter-vega": "#9739afcb-e8c6-4996-a4e2-4d887ab6dac7"
     },
     "output_type": "display_data"
    },
    {
     "data": {
      "application/javascript": [
       "var spec = {\"config\": {\"view\": {\"width\": 400, \"height\": 300}}, \"data\": {\"values\": [{\"category\": \"indel\", \"item\": \"freebayes\", \"value\": \"343\"}, {\"category\": \"SNV\", \"item\": \"freebayes\", \"value\": \"119\"}, {\"category\": \"substitution\", \"item\": \"freebayes\", \"value\": \"70\"}, {\"category\": \"indel\", \"item\": \"samtools\", \"value\": \"129\"}, {\"category\": \"SNV\", \"item\": \"samtools\", \"value\": \"115\"}, {\"category\": \"insertion\", \"item\": \"samtools\", \"value\": \"13\"}, {\"category\": \"deletion\", \"item\": \"samtools\", \"value\": \"12\"}, {\"category\": \"indel\", \"item\": \"shared\", \"value\": \"20\"}, {\"category\": \"SNV\", \"item\": \"shared\", \"value\": \"2159\"}]}, \"mark\": {\"type\": \"bar\", \"size\": 35}, \"encoding\": {\"color\": {\"type\": \"nominal\", \"field\": \"category\", \"scale\": {\"domain\": [\"indel\", \"SNV\", \"substitution\", \"insertion\", \"deletion\"], \"range\": [\"#F0E442\", \"#0072B2\", \"#E69F00\", \"#009E73\", \"#CC79A7\"]}}, \"x\": {\"type\": \"quantitative\", \"field\": \"value\"}, \"y\": {\"type\": \"nominal\", \"field\": \"item\"}}, \"height\": 150, \"width\": 432.0, \"$schema\": \"https://vega.github.io/schema/vega-lite/v2.4.3.json\"};\n",
       "var opt = {};\n",
       "var selector = \"#9739afcb-e8c6-4996-a4e2-4d887ab6dac7\";\n",
       "var type = \"vega-lite\";\n",
       "\n",
       "var output_area = this;\n",
       "\n",
       "require(['nbextensions/jupyter-vega/index'], function(vega) {\n",
       "  vega.render(selector, spec, type, opt, output_area);\n",
       "}, function (err) {\n",
       "  if (err.requireType !== 'scripterror') {\n",
       "    throw(err);\n",
       "  }\n",
       "});\n"
      ]
     },
     "metadata": {
      "jupyter-vega": "#9739afcb-e8c6-4996-a4e2-4d887ab6dac7"
     },
     "output_type": "display_data"
    },
    {
     "data": {
      "text/plain": []
     },
     "execution_count": 4,
     "metadata": {},
     "output_type": "execute_result"
    },
    {
     "data": {
      "image/png": "[encoded data removed]"
     },
     "metadata": {
      "jupyter-vega": "#9739afcb-e8c6-4996-a4e2-4d887ab6dac7"
     },
     "output_type": "display_data"
    }
   ],
   "source": [
    "alt.Chart(data).mark_bar(size=35).encode(\n",
    "    alt.X('value:Q'),\n",
    "    alt.Y('item:N'),\n",
    "    alt.Color('category:N',scale=oi_scale),\n",
    ").properties(\n",
    "    width=180*1.5*16/10,\n",
    "    height=150\n",
    ")"
   ]
  },
  {
   "cell_type": "code",
   "execution_count": null,
   "metadata": {},
   "outputs": [],
   "source": []
  },
  {
   "cell_type": "code",
   "execution_count": null,
   "metadata": {},
   "outputs": [],
   "source": []
  }
 ],
 "metadata": {
  "kernelspec": {
   "display_name": "Python 3",
   "language": "python",
   "name": "python3"
  },
  "language_info": {
   "codemirror_mode": {
    "name": "ipython",
    "version": 3
   },
   "file_extension": ".py",
   "mimetype": "text/x-python",
   "name": "python",
   "nbconvert_exporter": "python",
   "pygments_lexer": "ipython3",
   "version": "3.6.5"
  }
 },
 "nbformat": 4,
 "nbformat_minor": 2
}
