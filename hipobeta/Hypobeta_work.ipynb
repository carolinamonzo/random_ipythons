{
 "cells": [
  {
   "cell_type": "markdown",
   "metadata": {},
   "source": [
    "# Hypobeta: analysis of hereditary variants\n",
    "\n",
    "The objective of this project is to test different command line tools and define the best approach for analysis of hereditary variants.\n",
    "\n",
    "We have 4 exomes pertaining to a family of four, healthy parents (DHB-14.01 and DHB-14.02) and affected kids (DHB-14.00 and DHB-18.00).\n",
    "\n",
    "Start date: 2017/12/02  \n",
    "End date: 2018/01/20"
   ]
  },
  {
   "cell_type": "markdown",
   "metadata": {},
   "source": [
    "### Workspace\n",
    "cmc@hpc3_vm2s  \n",
    "cmc@mochi  \n",
    "\n",
    "Working_directory:/nfs/production2d/cmc_projects_tmp/hypobeta_work/analysis  \n",
    "  \n",
    "BED_directory:../bed_truseq/no_chr_truseq-dna-exome-targeted-regions-manifest-v1-2.bed  \n",
    "fastq_files:../fastq_files/  \n",
    "reference_genome:/nfs/qnapugdg8tb3a/nfs_references/human/1kg/hs37d5/hs37d5.fa  \n",
    "snap_reference_genome:../nfs/qnapugdg8tb3a/nfs_references/human/1kg/hs37d5/hs37d5.fa"
   ]
  },
  {
   "cell_type": "markdown",
   "metadata": {},
   "source": [
    "# Analysis"
   ]
  },
  {
   "cell_type": "markdown",
   "metadata": {},
   "source": [
    "### Preliminar fastqc analysis\n",
    "\n",
    "\\# Archivo .fof  \n",
    "cmc@vlinux16ugdg3:/nfs/production2d/cmc_projects_tmp/hypobeta_work/analysis$ find ../fastq_files/ -name \"DHB*.fastq.gz\" > fastq_files.fof  \n",
    "  \n",
    "\\# Comando paralelizado de control de calidad con fastqc  \n",
    "cmc@vlinux16ugdg3:/nfs/production2d/cmc_projects_tmp/hypobeta_work/analysis$ parallel --joblog ./fastq_QC/raw_QC/fastqc_parallel.log -j14 \"fastqc -o ./fastq_QC/raw_QC {}\" :::: fastq_files.fof  \n"
   ]
  },
  {
   "cell_type": "markdown",
   "metadata": {},
   "source": [
    "### Trimming with seqtk and cutadapt\n",
    "\n",
    "\\# Comando paralelizado de trimming con seqtk  \n",
    "cmc@vlinux16ugdg3:/nfs/production2d/cmc_projects_tmp/hypobeta_work/analysis$ parallel --er {gz} 'echo {gz}' :::: fastq_files.fof | parallel --joblog ./fastq_trimmed/seqtk_trimming/trimming_fastq_gz.log -j14 \"seqtk trimfq {}.gz | gzip > ./fastq_trimmed/seqtk_trimming/{/.}-seqtk-trimmed.fastq.gz\"  \n",
    "\n",
    "\\# Comando paralelizado de trimming con cutadapt  \n",
    "cmc@vlinux16ugdg3:/nfs/production2d/cmc_projects_tmp/hypobeta_work/analysis$ parallel --er {gz} 'echo {gz}' :::: fastq_files.fof | parallel --joblog ./fastq_trimmed/cutadapt_trimming/cutadapt_trimming_fastq_gz.log -j14 \"cutadapt -q 30 {}.gz | gzip > ./fastq_trimmed/cutadapt_trimming/{/.}-cutadapt-trimmed.fastq.gz\"  \n"
   ]
  },
  {
   "cell_type": "markdown",
   "metadata": {},
   "source": [
    "\\# Comando paralelizado de control de calidad con fastqc  \n",
    "cmc@vlinux16ugdg3:/nfs/production2d/cmc_projects_tmp/hypobeta_work/analysis$ parallel --joblog ./fastq_QC/seqtk_trimmed_QC/fastqc_seqtk_parallel.log -j14 \"fastqc -o ./fastq_QC/seqtk_trimmed_QC {}\" :::: fastq_seqtk_trimmed.fof\n"
   ]
  },
  {
   "cell_type": "markdown",
   "metadata": {},
   "source": [
    "### Merge fastq files"
   ]
  },
  {
   "cell_type": "code",
   "execution_count": null,
   "metadata": {},
   "outputs": [],
   "source": [
    "#! usr/bin/python3.6\n",
    "\n",
    "# 2017-12-31, Carolina Monzo\n",
    "# merge_fastq.py\n",
    "\n",
    "import os\n",
    "import re   \n",
    "import pandas as pd\n",
    "\n",
    "def fastq_dataframe(fastq_files):\n",
    "    '''\n",
    "    Function to take lines from fof file and create a sorted pandas dataframe with info from fastqs\n",
    "    Input: list of fastq files read from the fof file\n",
    "    Output: sorted dataframe with the fastq name metadata\n",
    "    '''\n",
    "\n",
    "    # Regular expression to create an annonymous dictionary\n",
    "    dict_list = []\n",
    "    rex = re.compile(r\"\\./fastq_trimmed/(seqtk|cutadapt)_trimming/(?P<sample>DHB-\\d+\\.\\d+)_L(?P<lane>\\d+)_R(?P<read>\\d+).+\")\n",
    "    for fastq in fastq_files:\n",
    "        m = rex.match(fastq)\n",
    "        dicc = m.groupdict()\n",
    "        dicc['fastq_file'] = fastq.split('/')[-1]\n",
    "        dicc['fastq_path'] = str(fastq)\n",
    "        dict_list.append(dicc)\n",
    "\n",
    "    # Read fastq info array into a pandas dataframe\n",
    "    df_fastq = pd.DataFrame(dict_list, columns = ['sample', 'lane', 'read', 'fastq_file', 'fastq_path'])\n",
    "    # Sort by sample, lane and read\n",
    "    df_fastq_sorted = df_fastq.sort_values(by=[\"fastq_path\"], ascending=[True]).reset_index(drop=True)\n",
    "\n",
    "    return(df_fastq_sorted)\n",
    "\n",
    "def zcat_fastq(df_fastq_sorted):\n",
    "    '''\n",
    "    Function to generate the zcat commands, it selects R1 and R2 from sorted samples\n",
    "    Input: dataframe of fastq sorted names\n",
    "    Output: cmd file with the zcat commands of ordered fastqs to merge\n",
    "    '''\n",
    "\n",
    "    # Create list by sample\n",
    "    samples = list(df_fastq_sorted['sample'].unique())\n",
    "\n",
    "    # Get trimming tool\n",
    "    \n",
    "    trimming_tool = list(df_fastq_sorted['fastq_file'])[0].split('-')[2]\n",
    "    \n",
    "    # Set zcat template\n",
    "\n",
    "    for i in range(len(samples)):\n",
    "            \n",
    "            sample_fastqs = list(df_fastq_sorted[df_fastq_sorted['sample']==samples[i]]['fastq_path'])\n",
    "            R1_list = sample_fastqs[0::2]\n",
    "            R2_list = sample_fastqs[1::2]\n",
    "            merged_fastq_name = df_fastq_sorted['sample'].unique()[i]\n",
    "            R1_str = \"zcat {} | gzip > ./fastq_merged/fastq_merged_{}/{}_R1_merged.fastq.gz\".format(' '.join(R1_list), \\\n",
    "                trimming_tool, merged_fastq_name)\n",
    "            R2_str = \"zcat {} | gzip > ./fastq_merged/fastq_merged_{}/{}_R2_merged.fastq.gz\".format(' '.join(R2_list), \\\n",
    "                trimming_tool, merged_fastq_name)\n",
    "                                    \n",
    "            # Write the cmd.sh file\n",
    "            with open('cmd_zcat_{}_fastq.sh'.format(trimming_tool), 'a') as cmd_file:\n",
    "                cmd_file.write(R1_str + '\\n')\n",
    "                cmd_file.write(R2_str + '\\n')\n",
    "\n",
    "def main():\n",
    "    '''\n",
    "    Function to sort the orders\n",
    "    '''\n",
    "    fastq_fof = 'fastq_seqtk_trimmed.fof'\n",
    "\n",
    "    with open(fastq_fof) as fof:\n",
    "            fastq_files = fof.read().splitlines()\n",
    "\n",
    "\n",
    "    df_fastq_sorted = fastq_dataframe(fastq_files)\n",
    "\n",
    "    zcat_fastq(df_fastq_sorted)\n",
    "\n",
    "\n",
    "\n",
    "if __name__ == '__main__':\n",
    "    main()\n"
   ]
  },
  {
   "cell_type": "markdown",
   "metadata": {},
   "source": [
    "\\# Ejecución del script inicial  \n",
    "cmc@vlinux16ugdg3:/nfs/production2d/cmc_projects_tmp/hypobeta_work/analysis$ python3.6 merge_fastq.py  \n",
    "  \n",
    "\\# Ejemplo de comando estándar de mergeo de archivos .fastq   \n",
    "zcat ./fastq_trimmed/seqtk_trimming/DHB-14.00_L004_R1_seqtk-trimmed.fastq.gz ./fastq_trimmed/seqtk_trimming/DHB-14.00_L005_R1_seqtk-trimmed.fastq.gz | gzip > ./fastq_merged/DHB-14.00_R1_merged.fastq  \n",
    "  \n",
    "\\# Ejecución en paralelo del script generado ‘cmd_zcat_fastq.sh’  \n",
    "cmc@vlinux16ugdg3:/nfs/production2d/cmc_projects_tmp/hypobeta_work/analysis$ parallel --joblog ./fastq_merged/merge_fastq.log -j15 :::: cmd_zcat_fastq.sh  \n"
   ]
  },
  {
   "cell_type": "markdown",
   "metadata": {},
   "source": [
    "### Quality control with fastqc\n",
    "\n",
    "\\# Ejecución en paralelo del control de calidad con fastqc  \n",
    "cmc@vlinux16ugdg3:/nfs/production2d/cmc_projects_tmp/hypobeta_work/analysis$ parallel --joblog ./fastq_QC/seqtk_merged_QC/fastqc_seqtk_merged_parallel.log -j16 \"fastqc -o ./fastq_QC/seqtk_merged_QC {}\" :::: merged_fastq_seqtk.fof \n"
   ]
  },
  {
   "cell_type": "markdown",
   "metadata": {},
   "source": [
    "### Mapping with snap and bwa\n",
    "\n",
    "\\# Indexado del genoma de referencia para mapeo con BWA  \n",
    "cmc@vlinux16ugdg3:/nfs/production2d/cmc_projects_tmp/hypobeta_work/analysis$ samtools faidx /nfs/qnapugdg8tb3a/nfs_references/human/1kg/hs37d5  \n",
    "  \n",
    "\\# Indexado del genoma de referencia para mapeo con SNAP  \n",
    "cmc@vlinux16ugdg3:/nfs/production2d/cmc_projects_tmp/hypobeta_work/snap_reference_genome$ /home/cmc/software/snap/snap-aligner index hs37d5.fa . -exact -sm\n"
   ]
  },
  {
   "cell_type": "code",
   "execution_count": null,
   "metadata": {},
   "outputs": [],
   "source": [
    "#! usr/bin/python3.6\n",
    "\n",
    "# 2018-01-03, Carolina Monzo\n",
    "# map.py\n",
    "\n",
    "import os\n",
    "import pandas as pd\n",
    "import re\n",
    "\n",
    "\n",
    "def merged_fastq_dataframe(fastq_files):\n",
    "    '''\n",
    "    Function to take lines from fof file to create a sorted pandas dataframe with info from merged fastqs\n",
    "    Input: list of fastq files read from the fof file\n",
    "    Ouptut: sorted dataframe with the fastq name metadata\n",
    "    '''\n",
    "    #<TODO> join this function with the fastq_dataframe function from merge_fastq.py\n",
    "        #Ideally we would only create the rex variable outside and pass it as input to the function\n",
    "        #Then we create an if statement and chose the corresponding columns for the dataframe\n",
    "    \n",
    "\n",
    "\n",
    "    # Regular expression to create an annonymous dictionary\n",
    "    dict_list = []\n",
    "\n",
    "    rex = re.compile(r\"\\./fastq_merged/fastq_merged_(seqtk|cutadapt)/(?P<sample>DHB-\\d+\\.\\d+)_R(?P<read>\\d+).+\")\n",
    "\n",
    "    for fastq in fastq_files:\n",
    "        m = rex.match(fastq)\n",
    "        dicc = m.groupdict()\n",
    "        dicc['fastq_file'] = fastq.split('/')[-1]\n",
    "        dicc['fastq_path'] = str(fastq)\n",
    "        dict_list.append(dicc)\n",
    "\n",
    "    # Read fastq info array into a pandas dataframe\n",
    "    \n",
    "    df_fastq = pd.DataFrame(dict_list, columns = ['sample', 'read', 'fastq_file', 'fastq_path'])\n",
    "\n",
    "    # Sort by sample and read\n",
    "\n",
    "    df_fastq_sorted = df_fastq.sort_values(by=['fastq_path'], ascending=[True]).reset_index(drop=True)\n",
    "\n",
    "    return(df_fastq_sorted)\n",
    "\n",
    "def map_fastq(df_fastq_sorted):\n",
    "    '''\n",
    "    Function to create commands to map merged fastq files, we have\n",
    "        a R1 and R2 fastq corresponding to each sample\n",
    "    Input: dataframe with metadata from merged fastq files\n",
    "    Output: files with commands for mapping with BWA and SNAP\n",
    "    '''\n",
    "    # Create list by sample\n",
    "\n",
    "    samples = list(df_fastq_sorted['sample'].unique())\n",
    "\n",
    "    # Get trimming tool\n",
    "\n",
    "    trimming_tool = list(df_fastq_sorted['fastq_path'])[0].split('/')[2].split('_')[-1]\n",
    "\n",
    "    # Set templates\n",
    "\n",
    "    for i in range(len(samples)):\n",
    "        sample_fastqs = list(df_fastq_sorted[df_fastq_sorted['sample']==samples[i]]['fastq_path'])\n",
    "        R1_list = sample_fastqs[0]\n",
    "        R2_list = sample_fastqs[1]\n",
    "        output_bam_name = df_fastq_sorted['sample'].unique()[i]\n",
    "\n",
    "        # Create template for bwa\n",
    "        \n",
    "        cmd_bwa = \"time bwa mem -M -L 5 -t 5 /storage/ethernus_miscellanea/References/human/1kg/hs37d5/hs37d5.fa.gz \\\n",
    "            {} {} 2> ./mapping_bwa_mem/bwa_{}/{}_bwa_mem.err | samtools sort -O bam -o \\\n",
    "            ./mapping_bwa_mem/bwa_{}/{}.{}.sorted.bam; time samtools index ./mapping_bwa_mem/bwa_{}/{}.{}.sorted.bam \\\n",
    "            \".format(R1_list, R2_list, trimming_tool, output_bam_name, trimming_tool, output_bam_name, trimming_tool, \n",
    "            trimming_tool, output_bam_name, trimming_tool)\n",
    "\n",
    "        # Write the cmd.sh file\n",
    "\n",
    "        with open('cmd_bwa_mem_{}.sh'.format(trimming_tool), 'a') as cmd_file:\n",
    "            cmd_file.write(cmd_bwa + '\\n')\n",
    "\n",
    "        # Create template for SNAP\n",
    "\n",
    "        cmd_snap = \"time /home/cmc/software/snap/snap-aligner paired /storage/ethernus_miscellanea/\\\n",
    "            scratch_local/workspace/cmc_projects_tmp/hipobeta_work/snap_reference_genome/ {} \n",
    "            {} -o -bam ./mapping_snap/snap_{}/{}.{}.unsorted.bam\".format(R1_list, R2_list, trimming_tool, \n",
    "            output_bam_name, trimming_tool)\n",
    "        # Create template for samtools sort and remove unsorted bam file\n",
    "\n",
    "        cmd_samtools_sort = \"time samtools sort ./mapping_snap/snap_{}/{}.{}.unsorted.bam -O bam -o \\\n",
    "            ./mapping_snap/snap_{}/{}.{}.sorted.bam; rm -f ./mapping_snap/snap_{}/{}.{}.unsorted.bam; \\\n",
    "            time samtools index ./mapping_snap/snap_{}/{}.{}.sorted.bam\".format(trimming_tool, output_bam_name, \n",
    "            trimming_tool, trimming_tool, output_bam_name, trimming_tool, trimming_tool, output_bam_name, \n",
    "            trimming_tool, trimming_tool, output_bam_name, trimming_tool)\n",
    "\n",
    "        # Write the cmd.sh file\n",
    "\n",
    "        with open('cmd_snap_{}.sh'.format(trimming_tool), 'a') as cmd_file:\n",
    "            cmd_file.write(cmd_snap + '; ' + cmd_samtools_sort + '\\n')\n",
    "\n",
    "def main():\n",
    "    '''\n",
    "    Function to sort the order of functions to use\n",
    "    '''\n",
    "\n",
    "    fastq_fof = 'merged_fastq_seqtk.fof'\n",
    "\n",
    "    with open(fastq_fof) as fof:\n",
    "        fastq_files = fof.read().splitlines()\n",
    "\n",
    "    # Create fastq files dataframe\n",
    "\n",
    "    df_fastq_sorted = merged_fastq_dataframe(fastq_files)\n",
    "\n",
    "    # Create BWA, SNAP and STAR commands for mapping\n",
    "\n",
    "    map_fastq(df_fastq_sorted)\n",
    "\n",
    "\n",
    "\n",
    "if __name__ == '__main__':\n",
    "    main()"
   ]
  },
  {
   "cell_type": "markdown",
   "metadata": {},
   "source": [
    "\\# Ejecución del script de gestión  \n",
    "cmc@vlinux16ugdg3:/nfs/production2d/cmc_projects_tmp/hypobeta_work/analysis$ python3.6 map.py  \n",
    "  \n",
    "\\# Ejemplo de comando estándar de mapeo utilizando BWA   \n",
    "bwa mem -M -L 5 -t 5 /storage/ethernus_miscellanea/References/human/1kg/hs37d5/hs37d5.fa.gz                 ./fastq_merged/fastq_merged_cutadapt/DHB-14.00_R1_merged.fastq.gz ./fastq_merged/fastq_merged_cutadapt/DHB-14.00_R2_merged.fastq.gz 2> ./mapping_bwa_mem/bwa_cutadapt/DHB-14.00_bwa_mem.err | samtools sort -O bam -o                 ./mapping_bwa_mem/bwa_cutadapt/DHB-14.00.cutadapt.sorted.bam; time samtools index ./mapping_bwa_mem/bwa_cutadapt/DHB-14.00.cutadapt.sorted.bam  \n",
    "  \n",
    "\\# Ejemplo de comando estándar de mapeo utilizando SNAP  \n",
    "time /home/cmc/software/snap/snap-aligner paired ../snap_reference_genome/ ./fastq_merged/fastq_merged_seqtk/DHB-14.00_R1_merged.fastq.gz ./fastq_merged/fastq_merged_seqtk/DHB-14.00_R2_merged.fastq.gz -o -bam ./mapping_snap/snap_seqtk/DHB-14.00.seqtk.unsorted.bam; time samtools sort ./mapping_snap/snap_seqtk/DHB-14.00.seqtk.unsorted.bam -O bam -o ./mapping_snap/snap_seqtk/DHB-14.00.seqtk.sorted.bam; rm -f ./mapping_snap/snap_seqtk/DHB-14.00.seqtk.unsorted.bam; time samtools index ./mapping_snap/snap_seqtk/DHB-14.00.seqtk.sorted.bam  \n",
    "  \n",
    "\\# Ejecución en paralelo de los scripts generados  \n",
    "\\# ‘cmd_(bwa_mem|snap)_(cutadapt|seqtk).sh’  \n",
    "cmc@vlinux16ugdg3:/nfs/production2d/cmc_projects_tmp/hypobeta_work/analysis$ parallel --joblog ./mapping_bwa_mem/bwa_seqtk/bwa_seqtk-20180103.log -j 4 :::: cmd_bwa_mem_seqtk.sh ; \n",
    "parallel --joblog ./mapping_snap/snap_cutadapt/snap_cutadapt-20180103.log -j 1 :::: cmd_snap_cutadapt.sh\n"
   ]
  },
  {
   "cell_type": "markdown",
   "metadata": {},
   "source": [
    "### Testing trimming and mapping mistakes"
   ]
  },
  {
   "cell_type": "markdown",
   "metadata": {},
   "source": [
    "\\# Comprobación de existencia de líneas blancas en archivos trimmeados con cutadapt  \n",
    "cmc@vlinux16ugdg3:/nfs/production2d/cmc_projects_tmp/hypobeta_work/analysis$ zcat ./fastq_merged/fastq_merged_cutadapt/DHB-14.00_R1_merged.fastq.gz | grep -cvE '[^[:space:]]'  \n",
    "134240  \n",
    "  \n",
    "\\# Comprobación de existencia de líneas blancas en archivos trimmeados con seqtk  \n",
    "cmc@vlinux16ugdg3:/nfs/production2d/cmc_projects_tmp/hypobeta_work/analysis$ zcat ./fastq_merged/fastq_merged_seqtk/DHB-14.00_R1_merged.fastq.gz | grep -cvE '[^[:space:]]'  \n",
    "0  \n"
   ]
  },
  {
   "cell_type": "markdown",
   "metadata": {},
   "source": [
    "### Mapping QC"
   ]
  },
  {
   "cell_type": "markdown",
   "metadata": {},
   "source": [
    "\\# Comando paralelizado para ejecutar samtools flagstat  \n",
    "cmc@vlinux16ugdg3:/nfs/production2d/cmc_projects_tmp/hypobeta_work/analysis$ parallel --er {bam} 'echo {bam}' :::: bam_snap_seqtk.fof | parallel --joblog ./mapping_QC/snap_seqtk_QC/flagstat-20180105.log -j16 \"samtools flagstat {}.bam > ./mapping_QC/snap_seqtk_QC/{/.}_flagstat.txt\"  \n",
    "\n",
    "\\# Comando para generar un script en bash para calcular estadísticas de mapeo con picard  \n",
    "cmc@vlinux16ugdg3:/nfs/production2d/cmc_projects_tmp/hypobeta_work/analysis\\$ for file in \\$(cat bam_snap_seqtk.fof | cut -d \"/\" -f4); do echo \"picard CollectMultipleMetrics R=/storage/ethernus_miscellanea/References/human/1kg/hs37d5/hs37d5.fa.gz I=./mapping_snap/snap_seqtk/\\${file} O=./mapping_QC/snap_seqtk_QC/\\$\\{file\\%.bam} PROGRAM=CollectInsertSizeMetrics PROGRAM=QualityScoreDistribution PROGRAM=CollectGCBiasMetrics PROGRAM=MeanQualityByCycle 2> ./mapping_QC/snap_seqtk_QC/${file%.bam}\" >> cmd_picard_metrics_snap_seqtk.sh ; done  \n",
    "  \n",
    "\\# Ejecución en paralelo del control de calidad utilizando picard  \n",
    "cmc@vlinux16ugdg3:/nfs/production2d/cmc_projects_tmp/hypobeta_work/analysis$ parallel --joblog ./mapping_QC/bwa_seqtk_QC/alignmentsummarymetrics-20180107.log -j16 :::: cmd_picard_alignment_bwa_seqtk.sh  \n"
   ]
  },
  {
   "cell_type": "markdown",
   "metadata": {},
   "source": [
    "### Merge bam files"
   ]
  },
  {
   "cell_type": "markdown",
   "metadata": {},
   "source": [
    "\\# Añadir campo @RG a todas las muestras  \n",
    "cmc@vlinux16ugdg3:/nfs/production2d/cmc_projects_tmp/hypobeta_work/analysis/mapping_bwa_mem/bwa_seqtk$ picard AddOrReplaceReadGroups I=DHB-14.00.seqtk.sorted.bam O=DHB-14.00.seqtk.sorted_rg.bam RGLB=Truseq RGPL=illumina RGSM=DHB-14.00 RGCN=INCLIVA RGPU=AGATGT RGID=DHB-14.00  \n",
    "  \n",
    "\\# Mergear en un solo archivo .bam  \n",
    "cmc@vlinux16ugdg3:/nfs/production2d/cmc_projects_tmp/hypobeta_work/analysis/mapping_bwa_mem/bwa_seqtk$ samtools merge quartet_merged.bam DHB-14.00.seqtk.sorted_rg.bam DHB-14.01.seqtk.sorted_rg.bam DHB-14.02.seqtk.sorted_rg.bam DHB-18.00.seqtk.sorted_rg.bam  \n"
   ]
  },
  {
   "cell_type": "markdown",
   "metadata": {},
   "source": [
    "### Getting coverage metrics"
   ]
  },
  {
   "cell_type": "markdown",
   "metadata": {},
   "source": [
    "\\# Obtener histograma de coberturas con bedtools  \n",
    "cmc@vlinux16ugdg3:/nfs/production2d/cmc_projects_tmp/hypobeta_work/analysis$ parallel --er {bam} 'echo {bam}' :::: bam_bwa_seqtk.fof | parallel --joblog ./coverage/bwa_seqtk/bedtools-hist-20180109.log -j10 \"bedtools coverage -hist -a {}.bam -b ../bed_truseq/no_chr_truseq-dna-exome-targeted-regions-manifest-v1-2.bed > ./coverage/bwa_seqtk/{/.}-hist.txt\"  \n",
    "\n",
    "\\# Obtener cobertura por base con samtools depth  \n",
    "cmc@vlinux16ugdg3:/nfs/production2d/cmc_projects_tmp/hypobeta_work/analysis$ parallel --er {bam} 'echo {bam}' :::: bam_bwa_seqtk.fof | parallel --joblog ./coverage/bwa_seqtk/samtools-B-20180110.log -j10 \"samtools depth -b ../bed_truseq/no_chr_truseq-dna-exome-targeted-regions-manifest-v1-2.bed {}.bam > /media/qnapugdg8tb_2b/cmc_projects_tmp/hypobeta_work/analysis/coverage/bwa_seqtk/{/.}-B-depth.cpb\" \n"
   ]
  },
  {
   "cell_type": "markdown",
   "metadata": {},
   "source": [
    "\\# Cálculo de cobertura media por muestra  \n",
    "cmc@mochi:/nfs/production2d/cmc_projects_tmp/hypobeta_work/analysis/coverage/bwa_seqtk\\$ for file in $(ls \\*seqtk-B-depth.cpb); do echo \\$file && cat \\$file | awk '{x+=\\$3}END{print x/NR}'; done\n"
   ]
  },
  {
   "cell_type": "markdown",
   "metadata": {},
   "source": [
    "\\# Get percentaje of dp10, dp20..  \n",
    "\n",
    "cmc@mochi:/nfs/production2d/cmc_projects_tmp/hypobeta_work/analysis/coverage/bwa_seqtk\n",
    "\\$ for file in \\$(ls \\*seqtk-B-depth.cpb); do echo \\$file && cat \\$file | awk '{ if (\\$3>10) {dp10+=\\$3}} {if (\\$3>20) {dp20+=\\$3}} {if (\\$3>30) {dp30+=\\$3}} {if (\\$3>40) {dp40+=\\$3}} {if \n",
    "(\\$3>50) {dp50+=\\$3}} {if (\\$3>60) {dp60+=\\$3}} {if (\\$3>70) {dp70+=\\$3}} {if (\\$3>80) {dp80+=\\$3}} {if (\\$3>90) {dp90+=\\$3}} END{print dp10/NR; print dp20/NR; print dp30/NR; print dp40\n",
    "/NR; print dp50/NR; print dp60/NR; print dp70/NR; print dp80/NR; print dp90/NR}'; done                                                                                         \n",
    "DHB-14.00.seqtk-B-depth.cpb\n"
   ]
  },
  {
   "cell_type": "markdown",
   "metadata": {},
   "source": [
    "### Variant calling with freebayes and samtools mpileup"
   ]
  },
  {
   "cell_type": "markdown",
   "metadata": {},
   "source": [
    "\\# Llamado de variantes con freebayes  \n",
    "cmc@vlinux16ugdg3:/nfs/production2d/cmc_projects_tmp/hypobeta_work/analysis$ freebayes -f /nfs/qnapugdg8tb3a/nfs_references/human/1kg/hs37d5/hs37d5.fa --min-alternate-fraction 0.05 --report-all-haplotype-alleles --min-base-quality 10 --pooled-continuous -C 4 ./mapping_bwa_mem/bwa_seqtk/quartet_merged.bam > ./variant_calling/bwa_seqtk_freebayes/quartet_merged_freebayes.vcfs\n",
    "\n",
    "\\# Llamado de variantes con samtools mpileup  \n",
    "cmc@vlinux16ugdg3:/nfs/production2d/cmc_projects_tmp/hypobeta_work/analysis$ samtools mpileup -v -d 200 -C50 -u -f /nfs/qnapugdg8tb3a/nfs_references/human/1kg/hs37d5/hs37d5.fa ./mapping_bwa_mem/bwa_seqtk/quartet_merged.bam > ./variant_calling/bwa_seqtk_mpileup/quartet_merged_mpileup.vcf \n"
   ]
  },
  {
   "cell_type": "markdown",
   "metadata": {},
   "source": [
    "### Filtering variants with vcftools\n",
    "  \n",
    "**Our variants of interest had depths of 12, we decided not to filter by depth in this step and filter by depth directly in the gemini commands**"
   ]
  },
  {
   "cell_type": "markdown",
   "metadata": {},
   "source": [
    "\\# Comando para filtrar variantes\n",
    "cmc@mochi:/nfs/production2d/cmc_projects_tmp/hypobeta_work/analysis/variant_calling/bwa_seqtk_freebayes\n",
    "$ vcftools --gzvcf quartet_merged_freebayes.vcf --minDP 20 --minGQ 20 --recode --recode-INFO-all --out quartet_merged_freebayes-dp20q20\n"
   ]
  },
  {
   "cell_type": "markdown",
   "metadata": {},
   "source": [
    "### Decompose and normalize files to separate by parsimonious alleles"
   ]
  },
  {
   "cell_type": "markdown",
   "metadata": {},
   "source": [
    "\\# Comando para descomponer y normalizar archivos .vcf  \n",
    "cmc@mochi:/nfs/production2d/cmc_projects_tmp/hypobeta_work/analysis/variant_calling/bwa_seqtk_freebayes\n",
    "$ vt decompose -s quartet_merged_freebayes-dp20q20.recode.vcf | vt normalize -r /nfs/qnapugdg8tb3a/nfs_references/human/1kg/hs37d5/hs37d5.fa -n - > quartet_merged_freebayes-dp20q20.recode-norm.vcf\n"
   ]
  },
  {
   "cell_type": "markdown",
   "metadata": {},
   "source": [
    "### Variant annotation with snpEff and VEP"
   ]
  },
  {
   "cell_type": "markdown",
   "metadata": {},
   "source": [
    "\\# Comando para anotar variantes utilizando snpEff  \n",
    "cmc@mochi:/nfs/production2d/cmc_projects_tmp/hypobeta_work/analysis/variant_calling/bwa_seqtk_freebayes\n",
    "$ java -jar /software/snpeff/snpEff-v4.3k/snpEff.jar GRCh37.75 -formatEff -classic quartet_merged_freebayes-dp20q20.recode-norm.vcf > quartet_merged_freebayes-dp20q20.recode-norm-snpEff.vcf  \n",
    "\n",
    "\\# Comando para anotar variantes utilizando VEP\n",
    "cmc@mochi:/nfs/production2d/cmc_projects_tmp/hypobeta_work/analysis/variant_calling/bwa_seqtk_freebayes\n",
    "$ vep -i quartet_merged_freebayes-dp20q20.recode-norm.vcf --format vcf --cache --dir /home/ugdg_admin/.vep/ --assembly GRCh37 --offline --force_overwrite --sift b -- polyphen b --symbol --no_stats --af_1kg --af_1kb --af_esp --af_gnomad--vcf -o quartet_merged_freebayes-dp20q20.recode-norm-VEP.vcf\n"
   ]
  },
  {
   "cell_type": "markdown",
   "metadata": {},
   "source": [
    "### Loading and filtering using gemini"
   ]
  },
  {
   "cell_type": "markdown",
   "metadata": {},
   "source": [
    "\\# Carga de archivos .vcf multisample a gemini  \n",
    "cmc@vlinux16ugdg3:/nfs/production2d/cmc_projects_tmp/hypobeta_work/analysis$ gemini load -v ./variant_calling/bwa_seqtk_freebayes/quartet_merged_freebayes-dp20q20.recode-norm-VEP.vcf -t VEP -p ./heritage/hypobeta_quartet.ped --cores 16 ~/workspace/hypobeta_work/hypobeta_quartet-VEP.db  \n",
    "\n",
    "\\# Comando final de filtrado para herencia heterocigota compuesta  \n",
    "cmc@vlinux16ugdg3:~/workspace/hypobeta_work$ gemini comp_hets hypobeta_quartet-VEP.db --columns \"chrom, start, end, gene, impact, sift_score, polyphen_score, ref, alt, aaf_1kg_eur, cadd_scaled, in_exac, aaf_gnomad_all, max_aaf_all\" --filter \"impact_severity != 'LOW' and aaf_1kg_eur < 0.1 and cadd_scaled > 20\"  \n",
    "\n",
    "\\# Comando final de filtrado para herencia autosómica recesiva  \n",
    "cmc@vlinux16ugdg3:~/workspace/hypobeta_work$ gemini autosomal_recessive hypobeta_quartet-VEP.db --columns \"chrom, start, end, gene, impact, sift_score, polyphen_score, ref, alt, aaf_1kg_eur, cadd_scaled, in_exac, aaf_gnomad_all, max_aaf_all\" --filter \"impact_severity != 'LOW' and aaf_1kg_eur < 0.1 and cadd_scaled > 20\"\n"
   ]
  },
  {
   "cell_type": "markdown",
   "metadata": {},
   "source": [
    "## Software\n",
    "FastQC v0.11.5  \n",
    "Seqtk v1.2-r94  \n",
    "Cutadapt v1.14  \n",
    "Bwa v0.7.16a-r1181  \n",
    "SNAP v1.0beta.23  \n",
    "samtools v1.5  \n",
    "python v3.6  \n",
    "picard v2.12.1  \n",
    "bedtools v2.26.0  \n",
    "freebayes v1.1.0  \n",
    "vcftools v0.1.15  \n",
    "vt v0.5772-60f436c3  \n",
    "snpEff v4.3k  \n",
    "VEP versions: ensembl (90.4a44397), ensembl-funcgen (90.e775c00), ensembl-io (90.9a148ea), ensembl-variation (90.58bf949), ensembl-vep (90.5)"
   ]
  }
 ],
 "metadata": {
  "kernelspec": {
   "display_name": "Python 3",
   "language": "python",
   "name": "python3"
  },
  "language_info": {
   "codemirror_mode": {
    "name": "ipython",
    "version": 2
   },
   "file_extension": ".py",
   "mimetype": "text/x-python",
   "name": "python",
   "nbconvert_exporter": "python",
   "pygments_lexer": "ipython2",
   "version": "2.7.12"
  }
 },
 "nbformat": 4,
 "nbformat_minor": 2
}
