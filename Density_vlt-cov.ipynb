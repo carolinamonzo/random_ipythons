{
 "cells": [
  {
   "cell_type": "code",
   "execution_count": null,
   "metadata": {},
   "outputs": [],
   "source": [
    "# Ipython Notebook\n",
    "# Carolina Monzo - 03-10-2018\n",
    "# Tests to create plots for VLT-Tesis\n",
    "import matplotlib.pyplot as plt\n",
    "import numpy as np\n",
    "import pandas as pd\n",
    "import seaborn as sns\n",
    "plt.style.use('seaborn-whitegrid')\n",
    "sns.set_style('whitegrid')\n",
    "\n",
    "# Read pandas dataframe from the tsv we created\n",
    "df = pd.read_csv(\"./probes_coverage_per_sample.tsv\", index_col=\"Sample\", sep='\\t')\n",
    "df.head()\n",
    "df2 = pd.read_csv(\"./exons_coverage_per_sample.tsv\", index_col='Sample', sep='\\t')\n",
    "df3 = pd.read_csv(\"./exo-prob-coverage_per_sample.tsv\", index_col = 'Sample', sep='\\t')\n",
    "\n",
    "# Plot density for each study\n",
    "fig = plt.figure(figsize=(10,10))\n",
    "\n",
    "sns.kdeplot(df[\"mean\"], shade=True, label=\"Probes\")\n",
    "sns.kdeplot(df2[\"mean\"], shade=True, label=\"Exons\")\n",
    "sns.kdeplot(df3[\"mean\"], shade=True, label=\"Probes + Exons\")\n",
    "#sns.kdeplot(df[\"dp5\"], shade=True)\n",
    "plt.xlim(0, df[\"mean\"].max())\n",
    "plt.xlabel(\"Mean coverage\", fontsize = 16)\n",
    "plt.ylabel(\"Density\", fontsize = 16)\n",
    "#The y-axis in a density plot is the probability density function for the kernel density estimation.\n",
    "leg = plt.legend(fontsize = 14, framealpha = 1, frameon = True)\n",
    "plt.show()\n",
    "plt.close(fig)\n"
   ]
  }
 ],
 "metadata": {
  "kernelspec": {
   "display_name": "Python 3",
   "language": "python",
   "name": "python3"
  },
  "language_info": {
   "codemirror_mode": {
    "name": "ipython",
    "version": 3
   },
   "file_extension": ".py",
   "mimetype": "text/x-python",
   "name": "python",
   "nbconvert_exporter": "python",
   "pygments_lexer": "ipython3",
   "version": "3.6.0"
  }
 },
 "nbformat": 4,
 "nbformat_minor": 2
}
